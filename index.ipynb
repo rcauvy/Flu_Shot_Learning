{
 "cells": [
  {
   "cell_type": "markdown",
   "metadata": {},
   "source": [
    "# Data Science Project"
   ]
  },
  {
   "cell_type": "markdown",
   "metadata": {},
   "source": [
    "* Name: Author Name\n",
    "* Email:\n"
   ]
  },
  {
   "cell_type": "markdown",
   "metadata": {},
   "source": [
    "## TABLE OF CONTENTS "
   ]
  },
  {
   "cell_type": "markdown",
   "metadata": {},
   "source": [
    "\n",
    "- **[Introduction](#INTRODUCTION)<br>**\n",
    "- **[OBTAIN](#OBTAIN)**<br>\n",
    "- **[SCRUB](#SCRUB)**<br>\n",
    "- **[EXPLORE](#EXPLORE)**<br>\n",
    "- **[MODEL](#MODEL)**<br>\n",
    "- **[iNTERPRET](#iNTERPRET)**<br>\n",
    "- **[Conclusions/Recommendations](#CONCLUSIONS-&-RECOMMENDATIONS)<br>**\n",
    "___"
   ]
  },
  {
   "cell_type": "markdown",
   "metadata": {},
   "source": [
    "# INTRODUCTION"
   ]
  },
  {
   "cell_type": "markdown",
   "metadata": {},
   "source": [
    "> Explain the point of your project and what question you are trying to answer with your modeling.\n",
    "\n"
   ]
  },
  {
   "cell_type": "markdown",
   "metadata": {},
   "source": [
    "# OBTAIN"
   ]
  },
  {
   "cell_type": "code",
   "execution_count": 1,
   "metadata": {},
   "outputs": [],
   "source": [
    "import pandas as pd"
   ]
  },
  {
   "cell_type": "code",
   "execution_count": 3,
   "metadata": {},
   "outputs": [
    {
     "data": {
      "text/plain": [
       "'https://www.transtats.bts.gov/Tables.asp?QO_VQ=EFD&QO_anzr=Nv4yv0r%FDb0-gvzr%FDcr4s14zn0pr%FDQn6n&QO_fu146_anzr=b0-gvzr'"
      ]
     },
     "execution_count": 3,
     "metadata": {},
     "output_type": "execute_result"
    }
   ],
   "source": [
    "'https://www.transtats.bts.gov/DL_SelectFields.asp?gnoyr_VQ=FGJ'\n",
    "'https://www.transtats.bts.gov/Tables.asp?QO_VQ=EFD&QO_anzr=Nv4yv0r%FDb0-gvzr%FDcr4s14zn0pr%FDQn6n&QO_fu146_anzr=b0-gvzr'"
   ]
  },
  {
   "cell_type": "code",
   "execution_count": 3,
   "metadata": {},
   "outputs": [
    {
     "data": {
      "text/plain": [
       "(1402918, 26)"
      ]
     },
     "execution_count": 3,
     "metadata": {},
     "output_type": "execute_result"
    }
   ],
   "source": [
    "df.shape"
   ]
  },
  {
   "cell_type": "code",
   "execution_count": 2,
   "metadata": {
    "scrolled": false
   },
   "outputs": [
    {
     "data": {
      "text/html": [
       "<div>\n",
       "<style scoped>\n",
       "    .dataframe tbody tr th:only-of-type {\n",
       "        vertical-align: middle;\n",
       "    }\n",
       "\n",
       "    .dataframe tbody tr th {\n",
       "        vertical-align: top;\n",
       "    }\n",
       "\n",
       "    .dataframe thead th {\n",
       "        text-align: right;\n",
       "    }\n",
       "</style>\n",
       "<table border=\"1\" class=\"dataframe\">\n",
       "  <thead>\n",
       "    <tr style=\"text-align: right;\">\n",
       "      <th></th>\n",
       "      <th>MONTH</th>\n",
       "      <th>DAY_OF_WEEK</th>\n",
       "      <th>DEP_DEL15</th>\n",
       "      <th>DISTANCE_GROUP</th>\n",
       "      <th>DEP_BLOCK</th>\n",
       "      <th>SEGMENT_NUMBER</th>\n",
       "      <th>CONCURRENT_FLIGHTS</th>\n",
       "      <th>NUMBER_OF_SEATS</th>\n",
       "      <th>CARRIER_NAME</th>\n",
       "      <th>AIRPORT_FLIGHTS_MONTH</th>\n",
       "      <th>...</th>\n",
       "      <th>PLANE_AGE</th>\n",
       "      <th>DEPARTING_AIRPORT</th>\n",
       "      <th>LATITUDE</th>\n",
       "      <th>LONGITUDE</th>\n",
       "      <th>PREVIOUS_AIRPORT</th>\n",
       "      <th>PRCP</th>\n",
       "      <th>SNOW</th>\n",
       "      <th>SNWD</th>\n",
       "      <th>TMAX</th>\n",
       "      <th>AWND</th>\n",
       "    </tr>\n",
       "  </thead>\n",
       "  <tbody>\n",
       "    <tr>\n",
       "      <th>0</th>\n",
       "      <td>1</td>\n",
       "      <td>1</td>\n",
       "      <td>0</td>\n",
       "      <td>1</td>\n",
       "      <td>MORNING</td>\n",
       "      <td>1</td>\n",
       "      <td>49</td>\n",
       "      <td>66</td>\n",
       "      <td>Mesa Airlines Inc.</td>\n",
       "      <td>5021</td>\n",
       "      <td>...</td>\n",
       "      <td>17</td>\n",
       "      <td>Raleigh-Durham International</td>\n",
       "      <td>35.875</td>\n",
       "      <td>-78.782</td>\n",
       "      <td>NONE</td>\n",
       "      <td>0.46</td>\n",
       "      <td>0.0</td>\n",
       "      <td>0.0</td>\n",
       "      <td>67.0</td>\n",
       "      <td>5.37</td>\n",
       "    </tr>\n",
       "    <tr>\n",
       "      <th>1</th>\n",
       "      <td>1</td>\n",
       "      <td>1</td>\n",
       "      <td>0</td>\n",
       "      <td>3</td>\n",
       "      <td>EARLY_MORNING</td>\n",
       "      <td>1</td>\n",
       "      <td>8</td>\n",
       "      <td>128</td>\n",
       "      <td>American Airlines Inc.</td>\n",
       "      <td>5021</td>\n",
       "      <td>...</td>\n",
       "      <td>19</td>\n",
       "      <td>Raleigh-Durham International</td>\n",
       "      <td>35.875</td>\n",
       "      <td>-78.782</td>\n",
       "      <td>NONE</td>\n",
       "      <td>0.46</td>\n",
       "      <td>0.0</td>\n",
       "      <td>0.0</td>\n",
       "      <td>67.0</td>\n",
       "      <td>5.37</td>\n",
       "    </tr>\n",
       "    <tr>\n",
       "      <th>2</th>\n",
       "      <td>1</td>\n",
       "      <td>1</td>\n",
       "      <td>0</td>\n",
       "      <td>2</td>\n",
       "      <td>MORNING</td>\n",
       "      <td>1</td>\n",
       "      <td>49</td>\n",
       "      <td>99</td>\n",
       "      <td>American Airlines Inc.</td>\n",
       "      <td>5021</td>\n",
       "      <td>...</td>\n",
       "      <td>11</td>\n",
       "      <td>Raleigh-Durham International</td>\n",
       "      <td>35.875</td>\n",
       "      <td>-78.782</td>\n",
       "      <td>NONE</td>\n",
       "      <td>0.46</td>\n",
       "      <td>0.0</td>\n",
       "      <td>0.0</td>\n",
       "      <td>67.0</td>\n",
       "      <td>5.37</td>\n",
       "    </tr>\n",
       "    <tr>\n",
       "      <th>3</th>\n",
       "      <td>1</td>\n",
       "      <td>1</td>\n",
       "      <td>0</td>\n",
       "      <td>1</td>\n",
       "      <td>EARLY_MORNING</td>\n",
       "      <td>1</td>\n",
       "      <td>8</td>\n",
       "      <td>99</td>\n",
       "      <td>American Airlines Inc.</td>\n",
       "      <td>5021</td>\n",
       "      <td>...</td>\n",
       "      <td>11</td>\n",
       "      <td>Raleigh-Durham International</td>\n",
       "      <td>35.875</td>\n",
       "      <td>-78.782</td>\n",
       "      <td>NONE</td>\n",
       "      <td>0.46</td>\n",
       "      <td>0.0</td>\n",
       "      <td>0.0</td>\n",
       "      <td>67.0</td>\n",
       "      <td>5.37</td>\n",
       "    </tr>\n",
       "    <tr>\n",
       "      <th>4</th>\n",
       "      <td>1</td>\n",
       "      <td>1</td>\n",
       "      <td>0</td>\n",
       "      <td>3</td>\n",
       "      <td>MORNING</td>\n",
       "      <td>1</td>\n",
       "      <td>49</td>\n",
       "      <td>143</td>\n",
       "      <td>Southwest Airlines Co.</td>\n",
       "      <td>5021</td>\n",
       "      <td>...</td>\n",
       "      <td>8</td>\n",
       "      <td>Raleigh-Durham International</td>\n",
       "      <td>35.875</td>\n",
       "      <td>-78.782</td>\n",
       "      <td>NONE</td>\n",
       "      <td>0.46</td>\n",
       "      <td>0.0</td>\n",
       "      <td>0.0</td>\n",
       "      <td>67.0</td>\n",
       "      <td>5.37</td>\n",
       "    </tr>\n",
       "    <tr>\n",
       "      <th>...</th>\n",
       "      <td>...</td>\n",
       "      <td>...</td>\n",
       "      <td>...</td>\n",
       "      <td>...</td>\n",
       "      <td>...</td>\n",
       "      <td>...</td>\n",
       "      <td>...</td>\n",
       "      <td>...</td>\n",
       "      <td>...</td>\n",
       "      <td>...</td>\n",
       "      <td>...</td>\n",
       "      <td>...</td>\n",
       "      <td>...</td>\n",
       "      <td>...</td>\n",
       "      <td>...</td>\n",
       "      <td>...</td>\n",
       "      <td>...</td>\n",
       "      <td>...</td>\n",
       "      <td>...</td>\n",
       "      <td>...</td>\n",
       "      <td>...</td>\n",
       "    </tr>\n",
       "    <tr>\n",
       "      <th>1402913</th>\n",
       "      <td>3</td>\n",
       "      <td>1</td>\n",
       "      <td>0</td>\n",
       "      <td>1</td>\n",
       "      <td>AFTERNOON</td>\n",
       "      <td>8</td>\n",
       "      <td>17</td>\n",
       "      <td>123</td>\n",
       "      <td>Hawaiian Airlines Inc.</td>\n",
       "      <td>1258</td>\n",
       "      <td>...</td>\n",
       "      <td>18</td>\n",
       "      <td>Keahole</td>\n",
       "      <td>19.739</td>\n",
       "      <td>-156.046</td>\n",
       "      <td>Honolulu International</td>\n",
       "      <td>0.00</td>\n",
       "      <td>0.0</td>\n",
       "      <td>0.0</td>\n",
       "      <td>83.0</td>\n",
       "      <td>8.72</td>\n",
       "    </tr>\n",
       "    <tr>\n",
       "      <th>1402914</th>\n",
       "      <td>3</td>\n",
       "      <td>1</td>\n",
       "      <td>0</td>\n",
       "      <td>1</td>\n",
       "      <td>AFTERNOON</td>\n",
       "      <td>9</td>\n",
       "      <td>17</td>\n",
       "      <td>123</td>\n",
       "      <td>Hawaiian Airlines Inc.</td>\n",
       "      <td>1258</td>\n",
       "      <td>...</td>\n",
       "      <td>18</td>\n",
       "      <td>Keahole</td>\n",
       "      <td>19.739</td>\n",
       "      <td>-156.046</td>\n",
       "      <td>Honolulu International</td>\n",
       "      <td>0.00</td>\n",
       "      <td>0.0</td>\n",
       "      <td>0.0</td>\n",
       "      <td>83.0</td>\n",
       "      <td>8.72</td>\n",
       "    </tr>\n",
       "    <tr>\n",
       "      <th>1402915</th>\n",
       "      <td>3</td>\n",
       "      <td>1</td>\n",
       "      <td>0</td>\n",
       "      <td>1</td>\n",
       "      <td>AFTERNOON</td>\n",
       "      <td>10</td>\n",
       "      <td>17</td>\n",
       "      <td>123</td>\n",
       "      <td>Hawaiian Airlines Inc.</td>\n",
       "      <td>1258</td>\n",
       "      <td>...</td>\n",
       "      <td>15</td>\n",
       "      <td>Keahole</td>\n",
       "      <td>19.739</td>\n",
       "      <td>-156.046</td>\n",
       "      <td>Kahului Airport</td>\n",
       "      <td>0.00</td>\n",
       "      <td>0.0</td>\n",
       "      <td>0.0</td>\n",
       "      <td>83.0</td>\n",
       "      <td>8.72</td>\n",
       "    </tr>\n",
       "    <tr>\n",
       "      <th>1402916</th>\n",
       "      <td>3</td>\n",
       "      <td>1</td>\n",
       "      <td>0</td>\n",
       "      <td>1</td>\n",
       "      <td>EVENING</td>\n",
       "      <td>12</td>\n",
       "      <td>6</td>\n",
       "      <td>123</td>\n",
       "      <td>Hawaiian Airlines Inc.</td>\n",
       "      <td>1258</td>\n",
       "      <td>...</td>\n",
       "      <td>18</td>\n",
       "      <td>Keahole</td>\n",
       "      <td>19.739</td>\n",
       "      <td>-156.046</td>\n",
       "      <td>Honolulu International</td>\n",
       "      <td>0.00</td>\n",
       "      <td>0.0</td>\n",
       "      <td>0.0</td>\n",
       "      <td>83.0</td>\n",
       "      <td>8.72</td>\n",
       "    </tr>\n",
       "    <tr>\n",
       "      <th>1402917</th>\n",
       "      <td>3</td>\n",
       "      <td>1</td>\n",
       "      <td>0</td>\n",
       "      <td>1</td>\n",
       "      <td>EVENING</td>\n",
       "      <td>12</td>\n",
       "      <td>6</td>\n",
       "      <td>123</td>\n",
       "      <td>Hawaiian Airlines Inc.</td>\n",
       "      <td>1258</td>\n",
       "      <td>...</td>\n",
       "      <td>15</td>\n",
       "      <td>Keahole</td>\n",
       "      <td>19.739</td>\n",
       "      <td>-156.046</td>\n",
       "      <td>Honolulu International</td>\n",
       "      <td>0.00</td>\n",
       "      <td>0.0</td>\n",
       "      <td>0.0</td>\n",
       "      <td>83.0</td>\n",
       "      <td>8.72</td>\n",
       "    </tr>\n",
       "  </tbody>\n",
       "</table>\n",
       "<p>1402918 rows × 26 columns</p>\n",
       "</div>"
      ],
      "text/plain": [
       "         MONTH  DAY_OF_WEEK  DEP_DEL15  DISTANCE_GROUP      DEP_BLOCK  \\\n",
       "0            1            1          0               1        MORNING   \n",
       "1            1            1          0               3  EARLY_MORNING   \n",
       "2            1            1          0               2        MORNING   \n",
       "3            1            1          0               1  EARLY_MORNING   \n",
       "4            1            1          0               3        MORNING   \n",
       "...        ...          ...        ...             ...            ...   \n",
       "1402913      3            1          0               1      AFTERNOON   \n",
       "1402914      3            1          0               1      AFTERNOON   \n",
       "1402915      3            1          0               1      AFTERNOON   \n",
       "1402916      3            1          0               1        EVENING   \n",
       "1402917      3            1          0               1        EVENING   \n",
       "\n",
       "         SEGMENT_NUMBER  CONCURRENT_FLIGHTS  NUMBER_OF_SEATS  \\\n",
       "0                     1                  49               66   \n",
       "1                     1                   8              128   \n",
       "2                     1                  49               99   \n",
       "3                     1                   8               99   \n",
       "4                     1                  49              143   \n",
       "...                 ...                 ...              ...   \n",
       "1402913               8                  17              123   \n",
       "1402914               9                  17              123   \n",
       "1402915              10                  17              123   \n",
       "1402916              12                   6              123   \n",
       "1402917              12                   6              123   \n",
       "\n",
       "                   CARRIER_NAME  AIRPORT_FLIGHTS_MONTH  ...  PLANE_AGE  \\\n",
       "0            Mesa Airlines Inc.                   5021  ...         17   \n",
       "1        American Airlines Inc.                   5021  ...         19   \n",
       "2        American Airlines Inc.                   5021  ...         11   \n",
       "3        American Airlines Inc.                   5021  ...         11   \n",
       "4        Southwest Airlines Co.                   5021  ...          8   \n",
       "...                         ...                    ...  ...        ...   \n",
       "1402913  Hawaiian Airlines Inc.                   1258  ...         18   \n",
       "1402914  Hawaiian Airlines Inc.                   1258  ...         18   \n",
       "1402915  Hawaiian Airlines Inc.                   1258  ...         15   \n",
       "1402916  Hawaiian Airlines Inc.                   1258  ...         18   \n",
       "1402917  Hawaiian Airlines Inc.                   1258  ...         15   \n",
       "\n",
       "                    DEPARTING_AIRPORT  LATITUDE  LONGITUDE  \\\n",
       "0        Raleigh-Durham International    35.875    -78.782   \n",
       "1        Raleigh-Durham International    35.875    -78.782   \n",
       "2        Raleigh-Durham International    35.875    -78.782   \n",
       "3        Raleigh-Durham International    35.875    -78.782   \n",
       "4        Raleigh-Durham International    35.875    -78.782   \n",
       "...                               ...       ...        ...   \n",
       "1402913                       Keahole    19.739   -156.046   \n",
       "1402914                       Keahole    19.739   -156.046   \n",
       "1402915                       Keahole    19.739   -156.046   \n",
       "1402916                       Keahole    19.739   -156.046   \n",
       "1402917                       Keahole    19.739   -156.046   \n",
       "\n",
       "               PREVIOUS_AIRPORT  PRCP  SNOW SNWD  TMAX  AWND  \n",
       "0                          NONE  0.46   0.0  0.0  67.0  5.37  \n",
       "1                          NONE  0.46   0.0  0.0  67.0  5.37  \n",
       "2                          NONE  0.46   0.0  0.0  67.0  5.37  \n",
       "3                          NONE  0.46   0.0  0.0  67.0  5.37  \n",
       "4                          NONE  0.46   0.0  0.0  67.0  5.37  \n",
       "...                         ...   ...   ...  ...   ...   ...  \n",
       "1402913  Honolulu International  0.00   0.0  0.0  83.0  8.72  \n",
       "1402914  Honolulu International  0.00   0.0  0.0  83.0  8.72  \n",
       "1402915         Kahului Airport  0.00   0.0  0.0  83.0  8.72  \n",
       "1402916  Honolulu International  0.00   0.0  0.0  83.0  8.72  \n",
       "1402917  Honolulu International  0.00   0.0  0.0  83.0  8.72  \n",
       "\n",
       "[1402918 rows x 26 columns]"
      ]
     },
     "execution_count": 2,
     "metadata": {},
     "output_type": "execute_result"
    }
   ],
   "source": [
    "df = pd.read_csv('data/new_data 2.csv')\n",
    "df"
   ]
  },
  {
   "cell_type": "code",
   "execution_count": 4,
   "metadata": {},
   "outputs": [
    {
     "name": "stdout",
     "output_type": "stream",
     "text": [
      "<class 'pandas.core.frame.DataFrame'>\n",
      "RangeIndex: 1402918 entries, 0 to 1402917\n",
      "Data columns (total 26 columns):\n",
      " #   Column                         Non-Null Count    Dtype  \n",
      "---  ------                         --------------    -----  \n",
      " 0   MONTH                          1402918 non-null  int64  \n",
      " 1   DAY_OF_WEEK                    1402918 non-null  int64  \n",
      " 2   DEP_DEL15                      1402918 non-null  int64  \n",
      " 3   DISTANCE_GROUP                 1402918 non-null  int64  \n",
      " 4   DEP_BLOCK                      1402918 non-null  object \n",
      " 5   SEGMENT_NUMBER                 1402918 non-null  int64  \n",
      " 6   CONCURRENT_FLIGHTS             1402918 non-null  int64  \n",
      " 7   NUMBER_OF_SEATS                1402918 non-null  int64  \n",
      " 8   CARRIER_NAME                   1402918 non-null  object \n",
      " 9   AIRPORT_FLIGHTS_MONTH          1402918 non-null  int64  \n",
      " 10  AIRLINE_FLIGHTS_MONTH          1402918 non-null  int64  \n",
      " 11  AIRLINE_AIRPORT_FLIGHTS_MONTH  1402918 non-null  int64  \n",
      " 12  AVG_MONTHLY_PASS_AIRPORT       1402918 non-null  int64  \n",
      " 13  AVG_MONTHLY_PASS_AIRLINE       1402918 non-null  int64  \n",
      " 14  FLT_ATTENDANTS_PER_PASS        1402918 non-null  float64\n",
      " 15  GROUND_SERV_PER_PASS           1402918 non-null  float64\n",
      " 16  PLANE_AGE                      1402918 non-null  int64  \n",
      " 17  DEPARTING_AIRPORT              1402918 non-null  object \n",
      " 18  LATITUDE                       1402918 non-null  float64\n",
      " 19  LONGITUDE                      1402918 non-null  float64\n",
      " 20  PREVIOUS_AIRPORT               1402918 non-null  object \n",
      " 21  PRCP                           1402918 non-null  float64\n",
      " 22  SNOW                           1402918 non-null  float64\n",
      " 23  SNWD                           1402918 non-null  float64\n",
      " 24  TMAX                           1402918 non-null  float64\n",
      " 25  AWND                           1402918 non-null  float64\n",
      "dtypes: float64(9), int64(13), object(4)\n",
      "memory usage: 278.3+ MB\n"
     ]
    }
   ],
   "source": [
    "df.info()"
   ]
  },
  {
   "cell_type": "markdown",
   "metadata": {},
   "source": [
    "# SCRUB"
   ]
  },
  {
   "cell_type": "code",
   "execution_count": null,
   "metadata": {},
   "outputs": [],
   "source": []
  },
  {
   "cell_type": "markdown",
   "metadata": {},
   "source": [
    "# EXPLORE"
   ]
  },
  {
   "cell_type": "code",
   "execution_count": null,
   "metadata": {},
   "outputs": [],
   "source": []
  },
  {
   "cell_type": "markdown",
   "metadata": {},
   "source": [
    "# MODEL"
   ]
  },
  {
   "cell_type": "code",
   "execution_count": null,
   "metadata": {},
   "outputs": [],
   "source": []
  },
  {
   "cell_type": "markdown",
   "metadata": {},
   "source": [
    "# iNTERPRET"
   ]
  },
  {
   "cell_type": "code",
   "execution_count": null,
   "metadata": {},
   "outputs": [],
   "source": []
  },
  {
   "cell_type": "markdown",
   "metadata": {},
   "source": [
    "# CONCLUSIONS & RECOMMENDATIONS"
   ]
  },
  {
   "cell_type": "markdown",
   "metadata": {},
   "source": [
    "> Summarize your conclusions and bullet-point your list of recommendations, which are based on your modeling results."
   ]
  },
  {
   "cell_type": "markdown",
   "metadata": {},
   "source": [
    "# TO DO/FUTURE WORK"
   ]
  },
  {
   "cell_type": "markdown",
   "metadata": {},
   "source": [
    "- "
   ]
  },
  {
   "cell_type": "code",
   "execution_count": null,
   "metadata": {},
   "outputs": [],
   "source": []
  }
 ],
 "metadata": {
  "kernelspec": {
   "display_name": "Python (learn-env)",
   "language": "python",
   "name": "learn-env"
  },
  "language_info": {
   "codemirror_mode": {
    "name": "ipython",
    "version": 3
   },
   "file_extension": ".py",
   "mimetype": "text/x-python",
   "name": "python",
   "nbconvert_exporter": "python",
   "pygments_lexer": "ipython3",
   "version": "3.8.5"
  },
  "toc": {
   "base_numbering": 1,
   "nav_menu": {},
   "number_sections": false,
   "sideBar": true,
   "skip_h1_title": false,
   "title_cell": "Table of Contents",
   "title_sidebar": "Contents",
   "toc_cell": false,
   "toc_position": {},
   "toc_section_display": true,
   "toc_window_display": true
  },
  "varInspector": {
   "cols": {
    "lenName": 16,
    "lenType": 16,
    "lenVar": 40
   },
   "kernels_config": {
    "python": {
     "delete_cmd_postfix": "",
     "delete_cmd_prefix": "del ",
     "library": "var_list.py",
     "varRefreshCmd": "print(var_dic_list())"
    },
    "r": {
     "delete_cmd_postfix": ") ",
     "delete_cmd_prefix": "rm(",
     "library": "var_list.r",
     "varRefreshCmd": "cat(var_dic_list()) "
    }
   },
   "types_to_exclude": [
    "module",
    "function",
    "builtin_function_or_method",
    "instance",
    "_Feature"
   ],
   "window_display": false
  }
 },
 "nbformat": 4,
 "nbformat_minor": 2
}
